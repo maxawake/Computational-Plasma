{
 "cells": [
  {
   "cell_type": "code",
   "execution_count": 104,
   "metadata": {},
   "outputs": [],
   "source": [
    "import numpy as np\n",
    "from PIL import Image\n",
    "import matplotlib.pyplot as plt\n",
    "def draw_duck(nx, ny):\n",
    "    img = Image.open(\"/home/max/Dropbox/PlasmaAstro/Exercise08/LatticeBoltzmann/duck.jpg\")\n",
    "    m = int(ny//2)\n",
    "    img = np.array(img.resize((m, m), Image.Resampling.LANCZOS))[:,:,0] < 7\n",
    "    plt.imshow(img<7) \n",
    "    plt.colorbar()\n",
    "    plt.show()\n",
    "    testmat = np.zeros((nx, ny), dtype=\"bool\")\n",
    "    # mask = mat .== 0.0\n",
    "    m_half = m//2\n",
    "    testmat[nx//4-m_half:(nx//4+m_half+1),ny//2-m_half:(ny//2+m_half+1)] = img.T\n",
    "    print(testmat)\n",
    "    return testmat\n",
    "\n"
   ]
  },
  {
   "cell_type": "code",
   "execution_count": 105,
   "metadata": {},
   "outputs": [
    {
     "data": {
      "image/png": "[encoded data removed]",
      "text/plain": [
       "<Figure size 640x480 with 2 Axes>"
      ]
     },
     "metadata": {},
     "output_type": "display_data"
    },
    {
     "name": "stdout",
     "output_type": "stream",
     "text": [
      "[[False False False ... False False False]\n",
      " [False False False ... False False False]\n",
      " [False False False ... False False False]\n",
      " ...\n",
      " [False False False ... False False False]\n",
      " [False False False ... False False False]\n",
      " [False False False ... False False False]]\n"
     ]
    },
    {
     "data": {
      "text/plain": [
       "<matplotlib.image.AxesImage at 0x7f20bcaee7f0>"
      ]
     },
     "execution_count": 105,
     "metadata": {},
     "output_type": "execute_result"
    },
    {
     "data": {
      "image/png": "[encoded data removed]",
      "text/plain": [
       "<Figure size 640x480 with 1 Axes>"
      ]
     },
     "metadata": {},
     "output_type": "display_data"
    }
   ],
   "source": [
    "plt.imshow(draw_duck(300, 50).T )"
   ]
  },
  {
   "cell_type": "code",
   "execution_count": 31,
   "metadata": {},
   "outputs": [],
   "source": [
    "def make_gif(data, gifpath, fps=25, cmap=\"twilight\", vmin=-0.02, vmax=0.02):\n",
    "    import os\n",
    "    import glob\n",
    "    import imageio\n",
    "    import matplotlib.pyplot as plt\n",
    "    import shutil\n",
    "    import tqdm\n",
    "    import warnings\n",
    "    warnings.filterwarnings(\"ignore\", category=DeprecationWarning) \n",
    "    if not \"temp\" in os.listdir(\"./\"):\n",
    "        os.mkdir(\"temp\")\n",
    "    zfill_param = int(np.ceil(np.log10(len(data))))\n",
    "    print(\"Save Images...\")\n",
    "    for i in range(len(data)):\n",
    "        plt.imsave(\"temp/pic\" + str(i).zfill(zfill_param) + \".png\".format(i), data[i], cmap=cmap, vmin=vmin, vmax=vmax)\n",
    "    print(\"Done.\")\n",
    "    images = []\n",
    "    print(\"Make Gif...\")\n",
    "    for filename in sorted(glob.glob(\"temp/pic*\")):\n",
    "        images.append(imageio.imread(filename))\n",
    "    imageio.mimsave(gifpath, images, fps=fps)\n",
    "    shutil.rmtree(\"./temp\")\n",
    "    print(\"Done.\")\n"
   ]
  },
  {
   "cell_type": "code",
   "execution_count": 40,
   "metadata": {},
   "outputs": [
    {
     "name": "stdout",
     "output_type": "stream",
     "text": [
      "Save Images...\n",
      "Done.\n",
      "Make Gif...\n",
      "Done.\n"
     ]
    }
   ],
   "source": [
    "import numpy as np\n",
    "test_data = np.ones((300,100,100))\n",
    "x,y = np.meshgrid(np.linspace(-1,1,100), np.linspace(-1,1,100))\n",
    "for i in range(300):\n",
    "    test_data[i] = np.sin(x*i) + np.cos(y*i)\n",
    "make_gif(test_data, \"./test.gif\", vmin=-1.0, vmax=1.0)"
   ]
  },
  {
   "cell_type": "code",
   "execution_count": 14,
   "metadata": {},
   "outputs": [
    {
     "name": "stdout",
     "output_type": "stream",
     "text": [
      "0010\n"
     ]
    }
   ],
   "source": [
    "st = \"10\".zfill(4)\n",
    "print(st)"
   ]
  },
  {
   "cell_type": "code",
   "execution_count": null,
   "metadata": {},
   "outputs": [],
   "source": []
  }
 ],
 "metadata": {
  "kernelspec": {
   "display_name": "base",
   "language": "python",
   "name": "python3"
  },
  "language_info": {
   "codemirror_mode": {
    "name": "ipython",
    "version": 3
   },
   "file_extension": ".py",
   "mimetype": "text/x-python",
   "name": "python",
   "nbconvert_exporter": "python",
   "pygments_lexer": "ipython3",
   "version": "3.9.15"
  },
  "orig_nbformat": 4,
  "vscode": {
   "interpreter": {
    "hash": "201f1b4038dffb4c6751655281afe604dea13cfaed561b9843a99ea909229d43"
   }
  }
 },
 "nbformat": 4,
 "nbformat_minor": 2
}
